{
  "nbformat": 4,
  "nbformat_minor": 0,
  "metadata": {
    "colab": {
      "provenance": [],
      "authorship_tag": "ABX9TyN0S6CHHgzeOUE3ihn3qj5T",
      "include_colab_link": true
    },
    "kernelspec": {
      "name": "python3",
      "display_name": "Python 3"
    },
    "language_info": {
      "name": "python"
    }
  },
  "cells": [
    {
      "cell_type": "markdown",
      "metadata": {
        "id": "view-in-github",
        "colab_type": "text"
      },
      "source": [
        "<a href=\"https://colab.research.google.com/github/A7sultan/Python-DA-ML-portfolio/blob/main/Aminah_Day3.ipynb\" target=\"_parent\"><img src=\"https://colab.research.google.com/assets/colab-badge.svg\" alt=\"Open In Colab\"/></a>"
      ]
    },
    {
      "cell_type": "markdown",
      "source": [
        "SETS\n",
        "\n",
        "unordered collection of objects\n",
        "\n",
        "no duplication allowed"
      ],
      "metadata": {
        "id": "mOapUcVATd6t"
      }
    },
    {
      "cell_type": "code",
      "source": [
        "colour={\"red\",\"blue\", \"green\"}\n",
        "print(colour)\n",
        "print(7 in colour)\n",
        "# print(colour[0])    #unordered collection\n",
        "length= len(colour)\n",
        "print(f\"length of colours is {length}\")\n",
        "colour.add(\"yellow\")\n",
        "print(colour)\n",
        "colour.discard(\"green\")\n",
        "print(colour)"
      ],
      "metadata": {
        "colab": {
          "base_uri": "https://localhost:8080/"
        },
        "id": "Mh6SIQcLWdln",
        "outputId": "674b9f96-5782-400f-9485-0a5fc2ce828c"
      },
      "execution_count": null,
      "outputs": [
        {
          "output_type": "stream",
          "name": "stdout",
          "text": [
            "{'green', 'blue', 'red'}\n",
            "False\n",
            "length of colours is 3\n",
            "{'yellow', 'green', 'blue', 'red'}\n",
            "{'yellow', 'blue', 'red'}\n"
          ]
        }
      ]
    },
    {
      "cell_type": "markdown",
      "source": [
        "Dictionary\n",
        "\n",
        "Consist of (key:value) pairs seperated by commas"
      ],
      "metadata": {
        "id": "jacT9WM-apQP"
      }
    },
    {
      "cell_type": "code",
      "execution_count": null,
      "metadata": {
        "colab": {
          "base_uri": "https://localhost:8080/"
        },
        "id": "QP3t8EcdSP4V",
        "outputId": "fe7dfdba-d258-4d29-bac1-17765ae2e7b5"
      },
      "outputs": [
        {
          "output_type": "stream",
          "name": "stdout",
          "text": [
            "{1: 'Maserati', 2: 'Maybach', 3: 'corvette', 4: 'Tesla', 5: 'Porsche'}\n",
            "My favourite car is Maserati\n",
            "dict_values(['Maserati', 'Maybach', 'corvette', 'Tesla', 'Porsche'])\n",
            "dict_items([(1, 'Maserati'), (2, 'Maybach'), (3, 'corvette'), (4, 'Tesla'), (5, 'Porsche')])\n"
          ]
        }
      ],
      "source": [
        "cars={1:\"Maserati\", 2:\"Maybach\", 3:\"corvette\", 4:\"Tesla\", 5:\"Porsche\"}\n",
        "print(cars)\n",
        "print(f\"My favourite car is {cars[1]}\")\n",
        "cars.keys()  #print all keys of the dictionary\n",
        "cars.get(4)  #prints value of the key passed\n",
        "print(cars.values()) #prints all values of the dictionary\n",
        "print(cars.items()) #gives all the key value pairs of the dictionary in a tuples"
      ]
    },
    {
      "cell_type": "markdown",
      "source": [
        "CONDITIONALS\n",
        "\n",
        "    1. if\n",
        "\n",
        "    2. if else"
      ],
      "metadata": {
        "id": "YKh4AZ0JTCrr"
      }
    },
    {
      "cell_type": "code",
      "source": [
        "a=7\n",
        "b=9\n",
        "if b>a:\n",
        "  print(\"b is greater than a\")\n",
        "elif a==b:\n",
        "  print(\"b is equal to a\")\n",
        "else:\n",
        "  print(\"a is greater than b\")\n",
        "c=int(input(\"enter the value of c:\")) #type casting is necessary from str to int\n",
        "d=int(input(\"enter the value of d:\")) #allows the user to give inputs\n",
        "if c>d:\n",
        "  print(\"c is greater than d\")\n",
        "elif c==d:\n",
        "  print(\"c is equal to d\")\n",
        "else:\n",
        "  print(\"d is greater than c\")"
      ],
      "metadata": {
        "colab": {
          "base_uri": "https://localhost:8080/"
        },
        "id": "vDE1dDv8b833",
        "outputId": "d240df83-3335-4da3-a142-9be2dbb9553e"
      },
      "execution_count": null,
      "outputs": [
        {
          "output_type": "stream",
          "name": "stdout",
          "text": [
            "b is greater than a\n",
            "enter the value of c:5\n",
            "enter the value of d:7\n",
            "d is greater than c\n"
          ]
        }
      ]
    },
    {
      "cell_type": "markdown",
      "source": [
        "Shorthand notations"
      ],
      "metadata": {
        "id": "BFZ8oAVbh3f8"
      }
    },
    {
      "cell_type": "code",
      "source": [
        "a=2\n",
        "b=3\n",
        "if a<b: print(\"a is smaller  than b\")\n",
        "print(\"A\") if a>b else print(\"=\") #single if else condition is allowed in a line\n",
        "print(\"B\") if b>a else print(\"hey\")\n",
        "c=5\n",
        "if a < c and b < c: #largest of 3 numbers\n",
        "  print(\"c is largest\")\n",
        "if a < b or c == a:\n",
        "  print(\"Either one condition is true\")"
      ],
      "metadata": {
        "colab": {
          "base_uri": "https://localhost:8080/"
        },
        "id": "utxjNkI1gygJ",
        "outputId": "9efe0e56-f25f-47cf-fd6d-eaa10d12621f"
      },
      "execution_count": null,
      "outputs": [
        {
          "output_type": "stream",
          "name": "stdout",
          "text": [
            "a is smaller  than b\n",
            "=\n",
            "B\n",
            "c is largest\n",
            "Either one condition is true\n"
          ]
        }
      ]
    },
    {
      "cell_type": "markdown",
      "source": [
        "LOOPS\n",
        "\n",
        "    1. For Loop\n",
        "    2. While Loop"
      ],
      "metadata": {
        "id": "IzeKapsOb6nw"
      }
    },
    {
      "cell_type": "code",
      "source": [
        "i=1\n",
        "while i < 10 :\n",
        " print(f\"value of i is now: {i}\")\n",
        " i+= 1\n",
        "j=7\n",
        "while j>0:   #printing numbers in reverse order\n",
        "  print(f\"value of j is now: {j}\")\n",
        "  if j==4:\n",
        "   break #used to come out of an infinite loop or stop iteration on a certain condition\n",
        "  j-=1\n",
        "k=0\n",
        "while k < 5:\n",
        "  k +=1\n",
        "  if k==3:\n",
        "    continue # skips an iteration based on the if condition\n",
        "  print(f\"k:{k}\")\n"
      ],
      "metadata": {
        "colab": {
          "base_uri": "https://localhost:8080/"
        },
        "id": "k13yVE4nnz-e",
        "outputId": "59d93150-fe62-44fa-9844-9b5fc0a5bbc9"
      },
      "execution_count": null,
      "outputs": [
        {
          "output_type": "stream",
          "name": "stdout",
          "text": [
            "value of i is now: 1\n",
            "value of i is now: 2\n",
            "value of i is now: 3\n",
            "value of i is now: 4\n",
            "value of i is now: 5\n",
            "value of i is now: 6\n",
            "value of i is now: 7\n",
            "value of i is now: 8\n",
            "value of i is now: 9\n",
            "value of j is now: 7\n",
            "value of j is now: 6\n",
            "value of j is now: 5\n",
            "value of j is now: 4\n",
            "k:1\n",
            "k:2\n",
            "k:4\n",
            "k:5\n"
          ]
        }
      ]
    },
    {
      "cell_type": "markdown",
      "source": [
        "MEMBERSHIP OPERATORS\n",
        "\n",
        "    1. in -> checks if the variable is present\n",
        "    2. not in -> checks if the variable is not present"
      ],
      "metadata": {
        "id": "NZtajOeKwYel"
      }
    },
    {
      "cell_type": "code",
      "source": [
        "pets=[\"cat\", \"dog\", \"fish\", True, \"racoon\"]\n",
        "for x in pets:\n",
        "  print(x)\n",
        "\n",
        "list1=[1,2,3,4,5]\n",
        "list2=[5,6,7,8,9]\n",
        "for items in list1:\n",
        "  if items in list2:\n",
        "    print(\"overlapping\")\n",
        "  else:\n",
        "    print(\"not overlapping\")"
      ],
      "metadata": {
        "colab": {
          "base_uri": "https://localhost:8080/"
        },
        "id": "EqyOJsTWw3V3",
        "outputId": "87215e8a-9ab9-445d-8a8d-70686b71b508"
      },
      "execution_count": null,
      "outputs": [
        {
          "output_type": "stream",
          "name": "stdout",
          "text": [
            "cat\n",
            "dog\n",
            "fish\n",
            "True\n",
            "racoon\n",
            "not overlapping\n",
            "not overlapping\n",
            "not overlapping\n",
            "not overlapping\n",
            "overlapping\n"
          ]
        }
      ]
    },
    {
      "cell_type": "markdown",
      "source": [
        "loop through string"
      ],
      "metadata": {
        "id": "Hwd_35HEzrnS"
      }
    },
    {
      "cell_type": "code",
      "source": [
        "for i in \"Batman\":\n",
        "  print(i)"
      ],
      "metadata": {
        "colab": {
          "base_uri": "https://localhost:8080/"
        },
        "id": "C5qACncAzpev",
        "outputId": "854201d5-2941-4b65-b04d-318009c2f6f3"
      },
      "execution_count": null,
      "outputs": [
        {
          "output_type": "stream",
          "name": "stdout",
          "text": [
            "B\n",
            "a\n",
            "t\n",
            "m\n",
            "a\n",
            "n\n"
          ]
        }
      ]
    },
    {
      "cell_type": "code",
      "source": [
        "names=[\"ami\", \"ash\", \"insh\", \"arshi\"]\n",
        "marks=[8.06, 7.89, 6.91, 9.01]\n",
        "for a in range(len(names)):\n",
        "    print(f\" {names[a]}- {str(marks[a])}\")"
      ],
      "metadata": {
        "colab": {
          "base_uri": "https://localhost:8080/"
        },
        "id": "_zD0wqH70bK1",
        "outputId": "dfcb88f0-f360-4bb0-f712-149f51ac56e3"
      },
      "execution_count": null,
      "outputs": [
        {
          "output_type": "stream",
          "name": "stdout",
          "text": [
            " ami- 8.06\n",
            " ash- 7.89\n",
            " insh- 6.91\n",
            " arshi- 9.01\n"
          ]
        }
      ]
    },
    {
      "cell_type": "code",
      "source": [
        "for i in range(2,11):\n",
        " for j in range(1,11):\n",
        "  print(f\"{i}x{j}={i*j}\")\n",
        " print(\"\")"
      ],
      "metadata": {
        "colab": {
          "base_uri": "https://localhost:8080/"
        },
        "id": "Sr4fS1jLe11j",
        "outputId": "580f1a52-1210-4953-f469-21bf64cfd212"
      },
      "execution_count": null,
      "outputs": [
        {
          "output_type": "stream",
          "name": "stdout",
          "text": [
            "2x1=2\n",
            "2x2=4\n",
            "2x3=6\n",
            "2x4=8\n",
            "2x5=10\n",
            "2x6=12\n",
            "2x7=14\n",
            "2x8=16\n",
            "2x9=18\n",
            "2x10=20\n",
            "\n",
            "3x1=3\n",
            "3x2=6\n",
            "3x3=9\n",
            "3x4=12\n",
            "3x5=15\n",
            "3x6=18\n",
            "3x7=21\n",
            "3x8=24\n",
            "3x9=27\n",
            "3x10=30\n",
            "\n",
            "4x1=4\n",
            "4x2=8\n",
            "4x3=12\n",
            "4x4=16\n",
            "4x5=20\n",
            "4x6=24\n",
            "4x7=28\n",
            "4x8=32\n",
            "4x9=36\n",
            "4x10=40\n",
            "\n",
            "5x1=5\n",
            "5x2=10\n",
            "5x3=15\n",
            "5x4=20\n",
            "5x5=25\n",
            "5x6=30\n",
            "5x7=35\n",
            "5x8=40\n",
            "5x9=45\n",
            "5x10=50\n",
            "\n",
            "6x1=6\n",
            "6x2=12\n",
            "6x3=18\n",
            "6x4=24\n",
            "6x5=30\n",
            "6x6=36\n",
            "6x7=42\n",
            "6x8=48\n",
            "6x9=54\n",
            "6x10=60\n",
            "\n",
            "7x1=7\n",
            "7x2=14\n",
            "7x3=21\n",
            "7x4=28\n",
            "7x5=35\n",
            "7x6=42\n",
            "7x7=49\n",
            "7x8=56\n",
            "7x9=63\n",
            "7x10=70\n",
            "\n",
            "8x1=8\n",
            "8x2=16\n",
            "8x3=24\n",
            "8x4=32\n",
            "8x5=40\n",
            "8x6=48\n",
            "8x7=56\n",
            "8x8=64\n",
            "8x9=72\n",
            "8x10=80\n",
            "\n",
            "9x1=9\n",
            "9x2=18\n",
            "9x3=27\n",
            "9x4=36\n",
            "9x5=45\n",
            "9x6=54\n",
            "9x7=63\n",
            "9x8=72\n",
            "9x9=81\n",
            "9x10=90\n",
            "\n",
            "10x1=10\n",
            "10x2=20\n",
            "10x3=30\n",
            "10x4=40\n",
            "10x5=50\n",
            "10x6=60\n",
            "10x7=70\n",
            "10x8=80\n",
            "10x9=90\n",
            "10x10=100\n",
            "\n"
          ]
        }
      ]
    }
  ]
}