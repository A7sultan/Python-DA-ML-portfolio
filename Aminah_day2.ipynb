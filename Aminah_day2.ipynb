{
  "nbformat": 4,
  "nbformat_minor": 0,
  "metadata": {
    "colab": {
      "provenance": [],
      "authorship_tag": "ABX9TyNG295Xi7IX59TIjNH8H9o9",
      "include_colab_link": true
    },
    "kernelspec": {
      "name": "python3",
      "display_name": "Python 3"
    },
    "language_info": {
      "name": "python"
    }
  },
  "cells": [
    {
      "cell_type": "markdown",
      "metadata": {
        "id": "view-in-github",
        "colab_type": "text"
      },
      "source": [
        "<a href=\"https://colab.research.google.com/github/A7sultan/Python-DA-ML-portfolio/blob/main/Aminah_day2.ipynb\" target=\"_parent\"><img src=\"https://colab.research.google.com/assets/colab-badge.svg\" alt=\"Open In Colab\"/></a>"
      ]
    },
    {
      "cell_type": "markdown",
      "source": [
        "Built-in Data types-\n",
        "\n",
        "1) Lists\n",
        "\n",
        "2) Tuples\n",
        "\n",
        "3) Dictionary\n",
        "\n",
        "4) sets\n"
      ],
      "metadata": {
        "id": "iIRgskslUlBb"
      }
    },
    {
      "cell_type": "code",
      "execution_count": null,
      "metadata": {
        "colab": {
          "base_uri": "https://localhost:8080/"
        },
        "id": "cmRbKbjYHR1z",
        "outputId": "4954eb85-70a2-41f6-acf9-c0fcf7d2f1be"
      },
      "outputs": [
        {
          "output_type": "stream",
          "name": "stdout",
          "text": [
            "['a', 79, True, 'pink']\n"
          ]
        }
      ],
      "source": [
        "my_list=['a', 79, True, \"pink\"]\n",
        "print(my_list)"
      ]
    },
    {
      "cell_type": "code",
      "source": [
        "print(len(my_list))"
      ],
      "metadata": {
        "colab": {
          "base_uri": "https://localhost:8080/"
        },
        "id": "ThYTb1ORWOVo",
        "outputId": "b47ffcf0-c761-4b81-d3a1-947b91ffe0a3"
      },
      "execution_count": null,
      "outputs": [
        {
          "output_type": "stream",
          "name": "stdout",
          "text": [
            "4\n"
          ]
        }
      ]
    },
    {
      "cell_type": "markdown",
      "source": [
        "lists allow us to append new values in the list at the end. append operation is strictly restricted to append one value at a time.\n",
        "Retrival of elements from lists is possible using the index numbers.\n",
        "Index numbers start from 0 and go upto len-1."
      ],
      "metadata": {
        "id": "7I2eCuCRWv9w"
      }
    },
    {
      "cell_type": "code",
      "source": [
        "my_list.append(5.4)\n",
        "print(my_list)"
      ],
      "metadata": {
        "colab": {
          "base_uri": "https://localhost:8080/"
        },
        "id": "hq-watyVWdoO",
        "outputId": "ec8ef76f-0148-4206-ef25-001fda133b09"
      },
      "execution_count": null,
      "outputs": [
        {
          "output_type": "stream",
          "name": "stdout",
          "text": [
            "['a', 79, True, 'pink', 5.4]\n"
          ]
        }
      ]
    },
    {
      "cell_type": "code",
      "source": [
        "print(my_list[3]) #printing list element from index 3"
      ],
      "metadata": {
        "colab": {
          "base_uri": "https://localhost:8080/"
        },
        "id": "xF8jZ4rrWu40",
        "outputId": "7b131646-51a1-46f4-8fb9-870debcc9f1a"
      },
      "execution_count": null,
      "outputs": [
        {
          "output_type": "stream",
          "name": "stdout",
          "text": [
            "pink\n"
          ]
        }
      ]
    },
    {
      "cell_type": "markdown",
      "source": [
        "Negative indexing is a concept where the lits is indexed with -1 from the last element to the first element."
      ],
      "metadata": {
        "id": "jwyBF0b-YoWU"
      }
    },
    {
      "cell_type": "code",
      "source": [
        "my_list[-1] #using negative index"
      ],
      "metadata": {
        "colab": {
          "base_uri": "https://localhost:8080/"
        },
        "id": "aDZcKiv0ZkiU",
        "outputId": "e77a14ce-5e60-4670-ff4f-9062d6b1c02c"
      },
      "execution_count": null,
      "outputs": [
        {
          "output_type": "execute_result",
          "data": {
            "text/plain": [
              "5.4"
            ]
          },
          "metadata": {},
          "execution_count": 68
        }
      ]
    },
    {
      "cell_type": "code",
      "source": [
        "my_list.pop()"
      ],
      "metadata": {
        "colab": {
          "base_uri": "https://localhost:8080/"
        },
        "id": "5Xq9XJPaZVpE",
        "outputId": "2ae89cb2-afdf-423b-ebb3-a035a938c271"
      },
      "execution_count": null,
      "outputs": [
        {
          "output_type": "execute_result",
          "data": {
            "text/plain": [
              "5.4"
            ]
          },
          "metadata": {},
          "execution_count": 69
        }
      ]
    },
    {
      "cell_type": "markdown",
      "source": [
        "list slicing"
      ],
      "metadata": {
        "id": "cxRwfuvibCSX"
      }
    },
    {
      "cell_type": "code",
      "source": [
        "li1=[21,\"Ami\", True, False, 0.91, 'r', 7]\n",
        "li1[0:6:2] #li[start:stop:step]\n",
        "li2=[1,2,3,4,5,6,7,8,9,10,11,12,13,14,15,16,17,18,19,20]\n",
        "li2[1:5]\n",
        "a=li1[1:]\n",
        "b=li1[-5:-3]\n",
        "b\n",
        "c=li2[-19:]\n",
        "c"
      ],
      "metadata": {
        "colab": {
          "base_uri": "https://localhost:8080/"
        },
        "id": "VGgXayKaZxzN",
        "outputId": "fb6a4eb0-0456-413c-93f7-344e12e36da7"
      },
      "execution_count": null,
      "outputs": [
        {
          "output_type": "execute_result",
          "data": {
            "text/plain": [
              "[2, 3, 4, 5, 6, 7, 8, 9, 10, 11, 12, 13, 14, 15, 16, 17, 18, 19, 20]"
            ]
          },
          "metadata": {},
          "execution_count": 70
        }
      ]
    },
    {
      "cell_type": "markdown",
      "source": [
        "Inserting elements or lists in a list can be done using list_name.insert(index,element)"
      ],
      "metadata": {
        "id": "GDJj9sh2gNex"
      }
    },
    {
      "cell_type": "code",
      "source": [
        "blue=[18, 5, \"Ash\", False, 23.5, 'Y']\n",
        "blue.insert(3,\"hello\")\n",
        "print(blue)"
      ],
      "metadata": {
        "colab": {
          "base_uri": "https://localhost:8080/"
        },
        "id": "vpKkVjjhghk-",
        "outputId": "c6f3f677-d47d-4bb9-d61c-7cd5125cafe3"
      },
      "execution_count": null,
      "outputs": [
        {
          "output_type": "stream",
          "name": "stdout",
          "text": [
            "[18, 5, 'Ash', 'hello', False, 23.5, 'Y']\n"
          ]
        }
      ]
    },
    {
      "cell_type": "markdown",
      "source": [
        "reversing a list"
      ],
      "metadata": {
        "id": "45PfIA0tsWkx"
      }
    },
    {
      "cell_type": "code",
      "source": [
        "li=[1,2,3,4,5,6,7,8,9]\n",
        "li.reverse()\n",
        "li"
      ],
      "metadata": {
        "colab": {
          "base_uri": "https://localhost:8080/"
        },
        "id": "hLkmGD0EsV6E",
        "outputId": "78630cfe-3f39-408a-855a-95f4aeccfa3c"
      },
      "execution_count": null,
      "outputs": [
        {
          "output_type": "execute_result",
          "data": {
            "text/plain": [
              "[9, 8, 7, 6, 5, 4, 3, 2, 1]"
            ]
          },
          "metadata": {},
          "execution_count": 78
        }
      ]
    },
    {
      "cell_type": "code",
      "source": [
        "r=li[::-1]\n",
        "r\n"
      ],
      "metadata": {
        "colab": {
          "base_uri": "https://localhost:8080/"
        },
        "id": "7tp7661ost4J",
        "outputId": "1817f8ec-b6c6-4921-f42d-9215aa7379ae"
      },
      "execution_count": null,
      "outputs": [
        {
          "output_type": "execute_result",
          "data": {
            "text/plain": [
              "[1, 2, 3, 4, 5, 6, 7, 8, 9]"
            ]
          },
          "metadata": {},
          "execution_count": 80
        }
      ]
    },
    {
      "cell_type": "code",
      "source": [
        "a=[1,2,3]\n",
        "b=[4,5,6]\n",
        "a.insert(2,b) #INSERT statement\n",
        "a"
      ],
      "metadata": {
        "colab": {
          "base_uri": "https://localhost:8080/"
        },
        "id": "rxGCguYwh0Sl",
        "outputId": "20d9cd4c-3539-4920-b06a-a0ed3bbe4e4b"
      },
      "execution_count": null,
      "outputs": [
        {
          "output_type": "execute_result",
          "data": {
            "text/plain": [
              "[1, 2, [4, 5, 6], 3]"
            ]
          },
          "metadata": {},
          "execution_count": 72
        }
      ]
    },
    {
      "cell_type": "code",
      "source": [
        "a.extend(b) #extending\n",
        "a\n",
        "z=blue[::2] #printing odd positioned elements in the list\n",
        "z\n",
        "i=[1,4,9,20,72, 39]\n",
        "i[2]=\"hi\"\n",
        "i"
      ],
      "metadata": {
        "colab": {
          "base_uri": "https://localhost:8080/"
        },
        "id": "tC6GMT3sh7Tl",
        "outputId": "9c85ce17-a192-4b4f-d3ab-5d6710a22dc9"
      },
      "execution_count": null,
      "outputs": [
        {
          "output_type": "execute_result",
          "data": {
            "text/plain": [
              "[1, 4, 'hi', 20, 72, 39]"
            ]
          },
          "metadata": {},
          "execution_count": 73
        }
      ]
    },
    {
      "cell_type": "code",
      "source": [
        "i.clear() #returns an empty list i\n",
        "i"
      ],
      "metadata": {
        "colab": {
          "base_uri": "https://localhost:8080/"
        },
        "id": "7mG7oSt-mLc5",
        "outputId": "0104d9b3-7a88-4f31-b5f4-e8fa289a909c"
      },
      "execution_count": null,
      "outputs": [
        {
          "output_type": "execute_result",
          "data": {
            "text/plain": [
              "[]"
            ]
          },
          "metadata": {},
          "execution_count": 74
        }
      ]
    },
    {
      "cell_type": "code",
      "source": [
        "del i #del is a keyword\n",
        "i     #list i has been deleted from the memory hence an error message is displayed reading 'i' is not defined."
      ],
      "metadata": {
        "colab": {
          "base_uri": "https://localhost:8080/",
          "height": 183
        },
        "id": "KwsLEZ3JmXPj",
        "outputId": "485c76c3-324c-41ac-ebd4-8b68e7a910a2"
      },
      "execution_count": null,
      "outputs": [
        {
          "output_type": "error",
          "ename": "NameError",
          "evalue": "ignored",
          "traceback": [
            "\u001b[0;31m---------------------------------------------------------------------------\u001b[0m",
            "\u001b[0;31mNameError\u001b[0m                                 Traceback (most recent call last)",
            "\u001b[0;32m<ipython-input-75-926d3baa1be9>\u001b[0m in \u001b[0;36m<cell line: 2>\u001b[0;34m()\u001b[0m\n\u001b[1;32m      1\u001b[0m \u001b[0;32mdel\u001b[0m \u001b[0mi\u001b[0m \u001b[0;31m#del is a keyword\u001b[0m\u001b[0;34m\u001b[0m\u001b[0;34m\u001b[0m\u001b[0m\n\u001b[0;32m----> 2\u001b[0;31m \u001b[0mi\u001b[0m     \u001b[0;31m#list i has been deleted from the memory hence an error message is displayed reading 'i' is not defined.\u001b[0m\u001b[0;34m\u001b[0m\u001b[0;34m\u001b[0m\u001b[0m\n\u001b[0m",
            "\u001b[0;31mNameError\u001b[0m: name 'i' is not defined"
          ]
        }
      ]
    },
    {
      "cell_type": "markdown",
      "source": [
        "Tuples\n",
        "\n",
        "They are immutable and can only be sliced.\n",
        "\n",
        "tuples syntax abc=(\"hey\", 1, True, 90.43)"
      ],
      "metadata": {
        "id": "_zfTCk9EoYMa"
      }
    },
    {
      "cell_type": "code",
      "source": [
        "abc=(\"hey\",5, 'y', False, 9.12)\n",
        "li=[1,2,3,4,5,6,7,8]\n",
        "e=tuple(li) #type conversion from list to tuple\n",
        "type(e)"
      ],
      "metadata": {
        "id": "_OMlNOHKo52V"
      },
      "execution_count": null,
      "outputs": []
    },
    {
      "cell_type": "markdown",
      "source": [
        "Tuple slicing"
      ],
      "metadata": {
        "id": "F9wxe5cQrCOE"
      }
    },
    {
      "cell_type": "code",
      "source": [
        "colours=(\"red\", \"blue\", \"yellow\", \"green\")\n",
        "d=colours[1:-1]\n",
        "type(d)"
      ],
      "metadata": {
        "colab": {
          "base_uri": "https://localhost:8080/"
        },
        "id": "G4VBmraIrG1d",
        "outputId": "34650305-7f50-44ff-edec-464c73c85a53"
      },
      "execution_count": null,
      "outputs": [
        {
          "output_type": "execute_result",
          "data": {
            "text/plain": [
              "tuple"
            ]
          },
          "metadata": {},
          "execution_count": 77
        }
      ]
    },
    {
      "cell_type": "code",
      "source": [],
      "metadata": {
        "id": "IxSGArlBsN_g"
      },
      "execution_count": null,
      "outputs": []
    }
  ]
}