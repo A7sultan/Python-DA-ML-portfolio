{
  "nbformat": 4,
  "nbformat_minor": 0,
  "metadata": {
    "colab": {
      "provenance": [],
      "authorship_tag": "ABX9TyOZp/2u/YmVnfCmel8aNTVP",
      "include_colab_link": true
    },
    "kernelspec": {
      "name": "python3",
      "display_name": "Python 3"
    },
    "language_info": {
      "name": "python"
    }
  },
  "cells": [
    {
      "cell_type": "markdown",
      "metadata": {
        "id": "view-in-github",
        "colab_type": "text"
      },
      "source": [
        "<a href=\"https://colab.research.google.com/github/A7sultan/Python-DA-ML-portfolio/blob/main/Aminah_day4.ipynb\" target=\"_parent\"><img src=\"https://colab.research.google.com/assets/colab-badge.svg\" alt=\"Open In Colab\"/></a>"
      ]
    },
    {
      "cell_type": "markdown",
      "source": [
        "FUNCTIONS\n",
        "\n",
        "From a function's perspective:\n",
        "\n",
        "A parameter is the variable listed inside the parentheses in the function definition.\n",
        "\n",
        "An argument is the value that are sent to the function when it is called."
      ],
      "metadata": {
        "id": "VYCIOTfjjHVW"
      }
    },
    {
      "cell_type": "code",
      "execution_count": null,
      "metadata": {
        "colab": {
          "base_uri": "https://localhost:8080/"
        },
        "id": "IeAQ6q6RdT8V",
        "outputId": "29e29984-74fc-4efb-b921-f8a7c1ce0d3f"
      },
      "outputs": [
        {
          "output_type": "stream",
          "name": "stdout",
          "text": [
            "It's day 4\n"
          ]
        }
      ],
      "source": [
        "def my_func():\n",
        "  print(\"It's day 4\")\n",
        "\n",
        "my_func()"
      ]
    },
    {
      "cell_type": "markdown",
      "source": [
        "Arguments in functions\n"
      ],
      "metadata": {
        "id": "MR08GkZBkiF0"
      }
    },
    {
      "cell_type": "code",
      "source": [
        "def func(arg):   #def is the keyword  used to define functions\n",
        "  print(arg+\" there!\")\n",
        "func(\"hey\")      #function call"
      ],
      "metadata": {
        "colab": {
          "base_uri": "https://localhost:8080/"
        },
        "id": "19rZwZ66kn1y",
        "outputId": "9ce43c36-72a6-4697-b0f3-e742bdfe3c2b"
      },
      "execution_count": null,
      "outputs": [
        {
          "output_type": "stream",
          "name": "stdout",
          "text": [
            "hey there!\n"
          ]
        }
      ]
    },
    {
      "cell_type": "markdown",
      "source": [
        "Parameter"
      ],
      "metadata": {
        "id": "B2xOu7NelBkS"
      }
    },
    {
      "cell_type": "code",
      "source": [
        "def my_function(a,b):   #passing of two parameters\n",
        "   print(a+b)\n",
        "\n",
        "my_function(12,9)\n",
        "my_function(\"Persian\", \"Cat\")\n"
      ],
      "metadata": {
        "colab": {
          "base_uri": "https://localhost:8080/"
        },
        "id": "9dsczUANlW7G",
        "outputId": "3cf6a0cc-4ca5-4858-ad6f-1fe7a91ee48c"
      },
      "execution_count": null,
      "outputs": [
        {
          "output_type": "stream",
          "name": "stdout",
          "text": [
            "21\n",
            "PersianCat\n"
          ]
        }
      ]
    },
    {
      "cell_type": "markdown",
      "source": [
        "Arbitrary"
      ],
      "metadata": {
        "id": "JZtaxZeQnvWe"
      }
    },
    {
      "cell_type": "code",
      "source": [
        "def my_function(*heights):\n",
        "   print(\"The last height entered is \"+ str(heights[len(heights)-1]))\n",
        "\n",
        "my_function(78,63,49,82)\n"
      ],
      "metadata": {
        "colab": {
          "base_uri": "https://localhost:8080/"
        },
        "id": "FBLYV1SBmbXg",
        "outputId": "8f0862ef-681d-4653-973c-d2162d48551a"
      },
      "execution_count": null,
      "outputs": [
        {
          "output_type": "stream",
          "name": "stdout",
          "text": [
            "The last height entered is 82\n"
          ]
        }
      ]
    },
    {
      "cell_type": "markdown",
      "source": [
        "Keyword Arguments\n",
        "\n",
        "can specify key=value\n",
        "\n",
        "This way the order of the argument does not matter"
      ],
      "metadata": {
        "id": "WsQQ-DlRpTHD"
      }
    },
    {
      "cell_type": "code",
      "source": [
        "def My_func(fname, lname, email):\n",
        "  print( fname + \" \"+ lname + \" \"+ email)\n",
        "\n",
        "My_func(\"Ami\", \"ami7@gmail.com\", \"abc\")\n",
        "My_func(fname=  \"Ami\", email= \"ami7@gmail.com\", lname= \"abc\")"
      ],
      "metadata": {
        "colab": {
          "base_uri": "https://localhost:8080/"
        },
        "id": "s-V6YoTapPIF",
        "outputId": "62681313-0467-4854-9a6d-edce845ecde2"
      },
      "execution_count": null,
      "outputs": [
        {
          "output_type": "stream",
          "name": "stdout",
          "text": [
            "Ami ami7@gmail.com abc\n",
            "Ami abc ami7@gmail.com\n"
          ]
        }
      ]
    },
    {
      "cell_type": "code",
      "source": [
        "def my_function(a): #a is parameter\n",
        "  for x in a:\n",
        "    print(x)\n",
        "\n",
        "my_list=[1,2,3,4,5]\n",
        "\n",
        "my_function(my_list)"
      ],
      "metadata": {
        "colab": {
          "base_uri": "https://localhost:8080/"
        },
        "id": "sP0exZ6JtFal",
        "outputId": "bebd906d-5037-4214-b433-8428e5a9fce8"
      },
      "execution_count": null,
      "outputs": [
        {
          "output_type": "stream",
          "name": "stdout",
          "text": [
            "1\n",
            "2\n",
            "3\n",
            "4\n",
            "5\n"
          ]
        }
      ]
    },
    {
      "cell_type": "code",
      "source": [
        "def m(name=\"Aminah\"):\n",
        "  print(\"My name is \"+ name)\n",
        "\n",
        "m(\"hello\")\n",
        "m(name= \"Aminah\")"
      ],
      "metadata": {
        "colab": {
          "base_uri": "https://localhost:8080/"
        },
        "id": "gGkHUAkSuxyW",
        "outputId": "272fc5b3-a11a-4ac1-8355-e0f4a8327eb1"
      },
      "execution_count": null,
      "outputs": [
        {
          "output_type": "stream",
          "name": "stdout",
          "text": [
            "My name is hello\n",
            "My name is Aminah\n"
          ]
        }
      ]
    },
    {
      "cell_type": "markdown",
      "source": [
        "Default parameter"
      ],
      "metadata": {
        "id": "9lybHmvmyxoI"
      }
    },
    {
      "cell_type": "code",
      "source": [
        "def my_function(country = \"Norway\"):\n",
        "  print(\"I am from \" + country)\n",
        "\n",
        "my_function(\"Sweden\")\n",
        "my_function(\"India\")\n",
        "my_function()\n",
        "my_function(\"Brazil\")"
      ],
      "metadata": {
        "id": "a1KNdkCQywUV"
      },
      "execution_count": null,
      "outputs": []
    },
    {
      "cell_type": "code",
      "source": [
        "def sq(i):\n",
        "  print(f\"square of {i} = \"+ str(i*i))\n",
        "\n",
        "num =int (input(\"Enter a number to be squared: \"))\n",
        "sq(num)"
      ],
      "metadata": {
        "colab": {
          "base_uri": "https://localhost:8080/"
        },
        "id": "DETgbEbfvQ36",
        "outputId": "6705ad83-b715-46d3-877f-d58fc23379cf"
      },
      "execution_count": null,
      "outputs": [
        {
          "output_type": "stream",
          "name": "stdout",
          "text": [
            "Enter a number to be squared: 5\n",
            "square of 5 = 25\n"
          ]
        }
      ]
    },
    {
      "cell_type": "markdown",
      "source": [
        "Unknown number of key arguments- add ** before parameter name"
      ],
      "metadata": {
        "id": "WD1AKmJcjDO5"
      }
    },
    {
      "cell_type": "code",
      "source": [
        "def my_function(**kid):\n",
        "  print(\"His last name is \" + kid[\"lname\"])\n",
        "\n",
        "my_function(fname = \"Tobias\", lname = \"Refsnes\")"
      ],
      "metadata": {
        "colab": {
          "base_uri": "https://localhost:8080/"
        },
        "id": "yXI0w0IavkYb",
        "outputId": "06f26169-4dd8-437a-e1d1-004fbf0c0e16"
      },
      "execution_count": null,
      "outputs": [
        {
          "output_type": "stream",
          "name": "stdout",
          "text": [
            "His last name is Refsnes\n"
          ]
        }
      ]
    },
    {
      "cell_type": "markdown",
      "source": [
        "Return Statement\n"
      ],
      "metadata": {
        "id": "P-D_ulF2y8ky"
      }
    },
    {
      "cell_type": "code",
      "source": [
        "def my_function(x):\n",
        "  return 5 * x\n",
        "\n",
        "print(my_function(3))\n",
        "print(my_function(5))\n",
        "print(my_function(9))"
      ],
      "metadata": {
        "id": "ChbwJgTiy69E"
      },
      "execution_count": null,
      "outputs": []
    },
    {
      "cell_type": "markdown",
      "source": [
        "RECURSION- using conditional statements in Functions"
      ],
      "metadata": {
        "id": "TTljs01Y0qf-"
      }
    },
    {
      "cell_type": "code",
      "source": [
        "def tri_recursion(k):\n",
        "  if(k > 0):\n",
        "    result = k + tri_recursion(k - 1)\n",
        "    print(result)\n",
        "  else:\n",
        "    result = 0\n",
        "  return result\n",
        "\n",
        "print(\"\\n\\nRecursion Example Results\")\n",
        "tri_recursion(6)"
      ],
      "metadata": {
        "colab": {
          "base_uri": "https://localhost:8080/"
        },
        "id": "9SjjLpU00qDU",
        "outputId": "a0343a6b-c898-43ae-99ca-e51c12dae687"
      },
      "execution_count": null,
      "outputs": [
        {
          "output_type": "stream",
          "name": "stdout",
          "text": [
            "\n",
            "\n",
            "Recursion Example Results\n",
            "1\n",
            "3\n",
            "6\n",
            "10\n",
            "15\n",
            "21\n"
          ]
        },
        {
          "output_type": "execute_result",
          "data": {
            "text/plain": [
              "21"
            ]
          },
          "metadata": {},
          "execution_count": 41
        }
      ]
    },
    {
      "cell_type": "markdown",
      "source": [
        "Lamda function"
      ],
      "metadata": {
        "id": "_Xiz-buM14NH"
      }
    },
    {
      "cell_type": "code",
      "source": [
        "x= lambda a, b: a * b\n",
        "print(x(2,3))"
      ],
      "metadata": {
        "colab": {
          "base_uri": "https://localhost:8080/"
        },
        "id": "MezscuQL2DNd",
        "outputId": "d1902b48-67db-47c8-8af9-c08805a171f5"
      },
      "execution_count": null,
      "outputs": [
        {
          "output_type": "stream",
          "name": "stdout",
          "text": [
            "6\n"
          ]
        }
      ]
    },
    {
      "cell_type": "code",
      "source": [
        "def my_function(n):\n",
        "  return lambda a : a * n\n",
        "\n",
        "dot= my_function(3)\n",
        "\n",
        "print(dot(100))"
      ],
      "metadata": {
        "colab": {
          "base_uri": "https://localhost:8080/"
        },
        "id": "WTkpMXhe2ffO",
        "outputId": "e02e7027-dd6f-47ae-a64c-1e2f34c9753b"
      },
      "execution_count": null,
      "outputs": [
        {
          "output_type": "stream",
          "name": "stdout",
          "text": [
            "300\n"
          ]
        }
      ]
    },
    {
      "cell_type": "markdown",
      "source": [
        "HOMEWORK\n",
        "\n",
        "Regex practice questions\n",
        "\n",
        "password checking #imp for interview"
      ],
      "metadata": {
        "id": "F-QZvOEB99uH"
      }
    }
  ]
}