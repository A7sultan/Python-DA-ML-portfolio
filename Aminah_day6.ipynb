{
  "nbformat": 4,
  "nbformat_minor": 0,
  "metadata": {
    "colab": {
      "provenance": [],
      "authorship_tag": "ABX9TyO4V94IdguNITb8ohzWwJI0",
      "include_colab_link": true
    },
    "kernelspec": {
      "name": "python3",
      "display_name": "Python 3"
    },
    "language_info": {
      "name": "python"
    }
  },
  "cells": [
    {
      "cell_type": "markdown",
      "metadata": {
        "id": "view-in-github",
        "colab_type": "text"
      },
      "source": [
        "<a href=\"https://colab.research.google.com/github/A7sultan/Python-DA-ML-portfolio/blob/main/Aminah_day6.ipynb\" target=\"_parent\"><img src=\"https://colab.research.google.com/assets/colab-badge.svg\" alt=\"Open In Colab\"/></a>"
      ]
    },
    {
      "cell_type": "markdown",
      "source": [
        "\n",
        "DATA ANALYSIS:\n",
        "\n",
        "used to analyse the datya and draw insights from it.\n",
        "\n",
        "The 5 most imp libraries in DA\n",
        "1. numpy\n",
        "2. pandas\n",
        "3. matplotlib\n",
        "4. seaborn\n",
        "5. scikit learn"
      ],
      "metadata": {
        "id": "YPQdUali9n9P"
      }
    },
    {
      "cell_type": "markdown",
      "source": [
        "NUMPY: (import numpy)\n",
        "\n",
        "Numerical python\n",
        "\n",
        "np.array()- function of an array    \n",
        "\n"
      ],
      "metadata": {
        "id": "N_GNr1yy-yhS"
      }
    },
    {
      "cell_type": "code",
      "execution_count": null,
      "metadata": {
        "colab": {
          "base_uri": "https://localhost:8080/"
        },
        "id": "uhEIfU559XeJ",
        "outputId": "70674b71-57b6-4ea5-e004-d55b265c6c2b"
      },
      "outputs": [
        {
          "output_type": "stream",
          "name": "stdout",
          "text": [
            "[1 2 3 4 5]\n",
            "int64\n",
            "<U8\n",
            "1\n",
            "11\n",
            "[1 3 5 7]\n",
            "[1 3 5]\n",
            "[8 7 6 5 4 3 2 1]\n"
          ]
        }
      ],
      "source": [
        "import numpy as np\n",
        "my_arr=np.array([1,2,3,4,5])  #syntax for array function\n",
        "array1=np.array([\"gogh\", \"Da vince\", \"lucifer\"])\n",
        "print(my_arr)\n",
        "print(my_arr.dtype)   #for array data type\n",
        "print(array1.dtype)\n",
        "\n",
        "array2=np.array([1,2,3,4,5,6,7,8])\n",
        "array2[5]        #for accessing elements of an array\n",
        "print(array2[0]) #indexing\n",
        "print(array2[4]+array2[5])  #addition\n",
        "\n",
        "print(array2[::2])\n",
        "print(array2[:6:2])   #Slicing\n",
        "a=(array2[::-1])  #for reversing  the array, the step should have a negative index of 1 i.e step=-1\n",
        "print(a)"
      ]
    },
    {
      "cell_type": "markdown",
      "source": [
        "2D, 3D arrays"
      ],
      "metadata": {
        "id": "bBSqvYGHHutG"
      }
    },
    {
      "cell_type": "code",
      "source": [
        "arr1=np.array([[1,2,3],[4,5,6]])\n",
        "print(arr1[0])\n",
        "print(arr1[1])\n",
        "print(arr1.shape)  #arr_name.shape gives the rows,cols of the matrix\n",
        "print(arr1[0][1])  #arr_name[row][col]\n",
        "arr2=np.array([1,2,3,4,5,6,7,8,9,10,11,12], ndmin=4)\n",
        "print(arr2.shape)\n",
        "new_arr=arr2.reshape(4,3)   #arr_name.reshape for shaping a matrix into n dimensions\n",
        "print(new_arr)\n",
        "arr3=arr2.reshape(2,3,2)   #reshape(r,d,c)  rxdxc=no.elements\n",
        "print(arr3)\n",
        "print(arr3.ndim)       #arr_name.ndim gives the number of dimensions\n",
        "arr4=arr2.reshape(3,2,2)\n",
        "print(arr4)\n",
        "print(arr4.ndim)\n",
        "print(arr1)\n",
        "arr5=arr1.reshape(-1)   #changes any dimensions to 1D on reshaping with (-1)\n",
        "print(arr5)"
      ],
      "metadata": {
        "colab": {
          "base_uri": "https://localhost:8080/"
        },
        "id": "MVodjn6VDL76",
        "outputId": "130afcea-082d-47c0-f373-84d43186d323"
      },
      "execution_count": null,
      "outputs": [
        {
          "output_type": "stream",
          "name": "stdout",
          "text": [
            "[1 2 3]\n",
            "[4 5 6]\n",
            "(2, 3)\n",
            "2\n",
            "(1, 1, 1, 12)\n",
            "[[ 1  2  3]\n",
            " [ 4  5  6]\n",
            " [ 7  8  9]\n",
            " [10 11 12]]\n",
            "[[[ 1  2]\n",
            "  [ 3  4]\n",
            "  [ 5  6]]\n",
            "\n",
            " [[ 7  8]\n",
            "  [ 9 10]\n",
            "  [11 12]]]\n",
            "3\n",
            "[[[ 1  2]\n",
            "  [ 3  4]]\n",
            "\n",
            " [[ 5  6]\n",
            "  [ 7  8]]\n",
            "\n",
            " [[ 9 10]\n",
            "  [11 12]]]\n",
            "3\n",
            "[[1 2 3]\n",
            " [4 5 6]]\n",
            "[1 2 3 4 5 6]\n"
          ]
        }
      ]
    },
    {
      "cell_type": "markdown",
      "source": [
        "Iterating the arrays"
      ],
      "metadata": {
        "id": "xapS7JuMYSVg"
      }
    },
    {
      "cell_type": "code",
      "source": [
        "arr6=np.array([[1,2,3],[4,5,6]])\n",
        "for element in arr6:     # 2 for loops for 2D array\n",
        "   for ele in element:\n",
        "    print(ele)\n",
        "\n",
        "arr7=np.array([[[1,2,3],[4,5,6]],[[7,8,9],[4,6,7]]])\n",
        "for a in arr7:\n",
        "  for b in a:\n",
        "    for c in b:\n",
        "      print(c)"
      ],
      "metadata": {
        "colab": {
          "base_uri": "https://localhost:8080/"
        },
        "id": "GrRXYdgIYdU1",
        "outputId": "7627e6bf-3592-492e-df3c-31f37b90698d"
      },
      "execution_count": null,
      "outputs": [
        {
          "output_type": "stream",
          "name": "stdout",
          "text": [
            "1\n",
            "2\n",
            "3\n",
            "4\n",
            "5\n",
            "6\n",
            "1\n",
            "2\n",
            "3\n",
            "4\n",
            "5\n",
            "6\n",
            "7\n",
            "8\n",
            "9\n",
            "4\n",
            "6\n",
            "7\n"
          ]
        }
      ]
    },
    {
      "cell_type": "markdown",
      "source": [
        "JOIN"
      ],
      "metadata": {
        "id": "xc8IdEa0aJbh"
      }
    },
    {
      "cell_type": "code",
      "source": [
        "a=np.array([1,2,3])\n",
        "b=np.array([4,5,6])\n",
        "c=np.concatenate((a,b))    # to join the array\n",
        "print(c)\n",
        "d=np.array([1,2,3,4,5,6,7,8,9,10,11,12])\n",
        "e=np.array_split(d,3)   #splitting an array into sub-arrays\n",
        "print(e)"
      ],
      "metadata": {
        "colab": {
          "base_uri": "https://localhost:8080/"
        },
        "id": "qWBsO5haaL5b",
        "outputId": "795c3bc1-93c9-4542-a232-83f2df963c07"
      },
      "execution_count": null,
      "outputs": [
        {
          "output_type": "stream",
          "name": "stdout",
          "text": [
            "[1 2 3 4 5 6]\n",
            "[array([1, 2, 3, 4]), array([5, 6, 7, 8]), array([ 9, 10, 11, 12])]\n"
          ]
        }
      ]
    },
    {
      "cell_type": "markdown",
      "source": [
        "SORTING"
      ],
      "metadata": {
        "id": "rC8JSZbgbJNW"
      }
    },
    {
      "cell_type": "code",
      "source": [
        "import numpy as np\n",
        "random_array=np.array([129,63,-72,28,-321,0])  #sorting in ascending order\n",
        "print(np.sort(random_array))\n",
        "\n",
        "rand_bool=np.array([False,True, False, True]) #sorting booleans\n",
        "print(np.sort(rand_bool))\n",
        "\n",
        "i=np.array([1,2,3,4,5,6,7,8,9,10,11,12])\n",
        "odd=[]\n",
        "even=[]\n",
        "for a in i:\n",
        "  if a%2 ==0:\n",
        "    even.append(True)\n",
        "  else:\n",
        "      odd.append(False)\n"
      ],
      "metadata": {
        "colab": {
          "base_uri": "https://localhost:8080/"
        },
        "id": "5buLQ-gDbMn8",
        "outputId": "5e4adfdc-d5f4-46d7-9d3a-db3c6653f9bc"
      },
      "execution_count": null,
      "outputs": [
        {
          "output_type": "stream",
          "name": "stdout",
          "text": [
            "[-321  -72    0   28   63  129]\n",
            "[False False  True  True]\n"
          ]
        }
      ]
    },
    {
      "cell_type": "code",
      "source": [
        "import numpy as np\n",
        "i=np.array([1,2,3,4,5,6,7,8,9,10,11,12])\n",
        "odd=[]\n",
        "even=[]\n",
        "for a in i:\n",
        "  if a%2 ==0:\n",
        "    even.append(a)\n",
        "  else:\n",
        "    odd.append(a)\n",
        "print(\"even no.s:\", even)\n",
        "print(\"odd no.s:\", odd)"
      ],
      "metadata": {
        "colab": {
          "base_uri": "https://localhost:8080/"
        },
        "id": "kxwsWdj5eRNL",
        "outputId": "f4175e2b-63c5-4801-f8b3-ef44634dcebf"
      },
      "execution_count": null,
      "outputs": [
        {
          "output_type": "stream",
          "name": "stdout",
          "text": [
            "even no.s: [2, 4, 6, 8, 10, 12]\n",
            "odd no.s: [1, 3, 5, 7, 9, 11]\n"
          ]
        }
      ]
    }
  ]
}