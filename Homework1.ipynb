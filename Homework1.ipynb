{
  "nbformat": 4,
  "nbformat_minor": 0,
  "metadata": {
    "colab": {
      "provenance": [],
      "authorship_tag": "ABX9TyOaMrIuuPMLuk7IPQQHP9gQ",
      "include_colab_link": true
    },
    "kernelspec": {
      "name": "python3",
      "display_name": "Python 3"
    },
    "language_info": {
      "name": "python"
    }
  },
  "cells": [
    {
      "cell_type": "markdown",
      "metadata": {
        "id": "view-in-github",
        "colab_type": "text"
      },
      "source": [
        "<a href=\"https://colab.research.google.com/github/A7sultan/Python-DA-ML-portfolio/blob/main/Homework1.ipynb\" target=\"_parent\"><img src=\"https://colab.research.google.com/assets/colab-badge.svg\" alt=\"Open In Colab\"/></a>"
      ]
    },
    {
      "cell_type": "markdown",
      "source": [
        "Homework"
      ],
      "metadata": {
        "id": "_TO4I_NmGo5R"
      }
    },
    {
      "cell_type": "code",
      "execution_count": null,
      "metadata": {
        "id": "JxtEDXaVF_em"
      },
      "outputs": [],
      "source": [
        "import pandas as pd\n",
        "import numpy as np\n",
        "exam_data = {'name': ['Anastasia', 'Dima', 'Katherine', 'James', 'Emily', 'Michael', 'Matthew', 'Laura', 'Kevin', 'Jonas'],\n",
        "             'score': [12.5, 9, 16.5, np.nan, 9, 20, 14.5, np.nan, 8, 19],\n",
        "             'attempts': [1, 3, 2, 3, 2, 3, 1, 1, 2, 1],\n",
        "             'qualify': ['yes', 'no', 'yes', 'no', 'no', 'yes', 'yes', 'no', 'no', 'yes']}\n",
        "labels = ['a', 'b', 'c', 'd', 'e', 'f', 'g', 'h', 'i', 'j']"
      ]
    },
    {
      "cell_type": "markdown",
      "source": [
        "Question 1-  Panads program to select the rows where the number of attempts in the examination is less than 2 and score greater than 15"
      ],
      "metadata": {
        "id": "oPkJvfkoHH9r"
      }
    },
    {
      "cell_type": "code",
      "source": [
        "x=pd.DataFrame(exam_data, index=labels)\n",
        "print(x[(x['attempts'] < 2) & (x['score'] > 15)])\n"
      ],
      "metadata": {
        "colab": {
          "base_uri": "https://localhost:8080/"
        },
        "id": "J-ktA_oqHgOJ",
        "outputId": "cbf4d190-a98c-4ed0-fc8b-3a55d96893a4"
      },
      "execution_count": null,
      "outputs": [
        {
          "output_type": "stream",
          "name": "stdout",
          "text": [
            "    name  score  attempts qualify\n",
            "j  Jonas   19.0         1     yes\n"
          ]
        }
      ]
    },
    {
      "cell_type": "markdown",
      "source": [
        "Question 2- Pandas program to change the score in row 'd' to 11.5"
      ],
      "metadata": {
        "id": "JlijNrF7MALX"
      }
    },
    {
      "cell_type": "code",
      "source": [
        "x=pd.DataFrame(exam_data)\n",
        "x.loc['d', 'score'] = 11.5\n",
        "print(x)\n"
      ],
      "metadata": {
        "colab": {
          "base_uri": "https://localhost:8080/"
        },
        "id": "7g3mFtjPL_XI",
        "outputId": "79b70a12-3836-444d-b1a3-da560f3a43bd"
      },
      "execution_count": null,
      "outputs": [
        {
          "output_type": "stream",
          "name": "stdout",
          "text": [
            "        name  score  attempts qualify\n",
            "0  Anastasia   12.5       1.0     yes\n",
            "1       Dima    9.0       3.0      no\n",
            "2  Katherine   16.5       2.0     yes\n",
            "3      James    NaN       3.0      no\n",
            "4      Emily    9.0       2.0      no\n",
            "5    Michael   20.0       3.0     yes\n",
            "6    Matthew   14.5       1.0     yes\n",
            "7      Laura    NaN       1.0      no\n",
            "8      Kevin    8.0       2.0      no\n",
            "9      Jonas   19.0       1.0     yes\n",
            "d        NaN   11.5       NaN     NaN\n"
          ]
        }
      ]
    },
    {
      "cell_type": "markdown",
      "source": [
        "To calculate the sum of the examination attempts by the student"
      ],
      "metadata": {
        "id": "V4WzdMJUsX69"
      }
    },
    {
      "cell_type": "code",
      "source": [
        "x=pd.DataFrame(exam_data)\n",
        "print(x[\"attempts\"].sum())"
      ],
      "metadata": {
        "colab": {
          "base_uri": "https://localhost:8080/"
        },
        "id": "CyBQ7u76skyl",
        "outputId": "5624ac9b-767a-4be0-ae07-622ccf6ed593"
      },
      "execution_count": null,
      "outputs": [
        {
          "output_type": "stream",
          "name": "stdout",
          "text": [
            "19\n"
          ]
        }
      ]
    },
    {
      "cell_type": "markdown",
      "source": [
        "To calculate the mean score of each different student in dataframe"
      ],
      "metadata": {
        "id": "2HUpnBmuv6iK"
      }
    },
    {
      "cell_type": "code",
      "source": [
        "y=x[\"score\"].mean()\n",
        "y"
      ],
      "metadata": {
        "colab": {
          "base_uri": "https://localhost:8080/"
        },
        "id": "hzNRlVWav2Pd",
        "outputId": "dfa54921-f038-4165-e2cf-f804f3fc8dac"
      },
      "execution_count": null,
      "outputs": [
        {
          "output_type": "execute_result",
          "data": {
            "text/plain": [
              "13.5625"
            ]
          },
          "metadata": {},
          "execution_count": 33
        }
      ]
    },
    {
      "cell_type": "markdown",
      "source": [
        "to append a new row 'k' to data frame with given values for each column. now delete the new row and return the original Dataframe"
      ],
      "metadata": {
        "id": "AK77RoD0GIB7"
      }
    },
    {
      "cell_type": "code",
      "source": [
        "print(\"before appending:\")\n",
        "print(x)\n",
        "print(\"appending a new row:\")\n",
        "x.loc['k']=['Daniel',16.2,1,'yes' ]\n",
        "print(\"New Dataset:\")\n",
        "print(x)\n",
        "print(\"Deleting the new row:\")\n",
        "x=x.drop('k')\n",
        "print(x)"
      ],
      "metadata": {
        "colab": {
          "base_uri": "https://localhost:8080/"
        },
        "id": "JtienTsC0SSs",
        "outputId": "16d7e33d-f27f-4776-d9de-c852bb151e17"
      },
      "execution_count": null,
      "outputs": [
        {
          "output_type": "stream",
          "name": "stdout",
          "text": [
            "before appending:\n",
            "        name score attempts qualify\n",
            "a  Anastasia  12.5        1     yes\n",
            "b       Dima   9.0        3      no\n",
            "c  Katherine  16.5        2     yes\n",
            "d      James   NaN        3      no\n",
            "e      Emily   9.0        2      no\n",
            "f    Michael  20.0        3     yes\n",
            "g    Matthew  14.5        1     yes\n",
            "h      Laura   NaN        1      no\n",
            "i      Kevin   8.0        2      no\n",
            "j      Jonas  19.0        1     yes\n",
            "appending a new row:\n",
            "New Dataset:\n",
            "        name score attempts qualify\n",
            "a  Anastasia  12.5        1     yes\n",
            "b       Dima   9.0        3      no\n",
            "c  Katherine  16.5        2     yes\n",
            "d      James   NaN        3      no\n",
            "e      Emily   9.0        2      no\n",
            "f    Michael  20.0        3     yes\n",
            "g    Matthew  14.5        1     yes\n",
            "h      Laura   NaN        1      no\n",
            "i      Kevin   8.0        2      no\n",
            "j      Jonas  19.0        1     yes\n",
            "k     Daniel  16.2        1     yes\n",
            "Deleting the new row:\n",
            "        name score attempts qualify\n",
            "a  Anastasia  12.5        1     yes\n",
            "b       Dima   9.0        3      no\n",
            "c  Katherine  16.5        2     yes\n",
            "d      James   NaN        3      no\n",
            "e      Emily   9.0        2      no\n",
            "f    Michael  20.0        3     yes\n",
            "g    Matthew  14.5        1     yes\n",
            "h      Laura   NaN        1      no\n",
            "i      Kevin   8.0        2      no\n",
            "j      Jonas  19.0        1     yes\n"
          ]
        }
      ]
    },
    {
      "cell_type": "markdown",
      "source": [
        "To sort the Dataframe first by name in descending order and then by score in ascending order."
      ],
      "metadata": {
        "id": "KJw7f3dL4ZMu"
      }
    },
    {
      "cell_type": "code",
      "source": [
        "print(\"Orginal rows:\")\n",
        "print(x)\n",
        "x= x.sort_values(by=['name', 'score'], ascending=[False, True])\n",
        "print(\"Sort the data frame first by ‘name’ in descending order, then by ‘score’ in ascending order:\")\n",
        "print(x)"
      ],
      "metadata": {
        "colab": {
          "base_uri": "https://localhost:8080/"
        },
        "id": "j1wy79n14jMR",
        "outputId": "906e846c-7cf0-4c6a-b54c-5b05430fcb6f"
      },
      "execution_count": null,
      "outputs": [
        {
          "output_type": "stream",
          "name": "stdout",
          "text": [
            "Orginal rows:\n",
            "        name score attempts qualify\n",
            "a  Anastasia  12.5        1     yes\n",
            "b       Dima   9.0        3      no\n",
            "c  Katherine  16.5        2     yes\n",
            "d      James   NaN        3      no\n",
            "e      Emily   9.0        2      no\n",
            "f    Michael  20.0        3     yes\n",
            "g    Matthew  14.5        1     yes\n",
            "h      Laura   NaN        1      no\n",
            "i      Kevin   8.0        2      no\n",
            "j      Jonas  19.0        1     yes\n",
            "Sort the data frame first by ‘name’ in descending order, then by ‘score’ in ascending order:\n",
            "        name score attempts qualify\n",
            "f    Michael  20.0        3     yes\n",
            "g    Matthew  14.5        1     yes\n",
            "h      Laura   NaN        1      no\n",
            "i      Kevin   8.0        2      no\n",
            "c  Katherine  16.5        2     yes\n",
            "j      Jonas  19.0        1     yes\n",
            "d      James   NaN        3      no\n",
            "e      Emily   9.0        2      no\n",
            "b       Dima   9.0        3      no\n",
            "a  Anastasia  12.5        1     yes\n"
          ]
        }
      ]
    },
    {
      "cell_type": "markdown",
      "source": [
        "To replace the 'qualify' column contains the values 'yes' and 'no' with True and False"
      ],
      "metadata": {
        "id": "rt4Zm2EP5BXj"
      }
    },
    {
      "cell_type": "code",
      "source": [
        "df = pd.DataFrame(exam_data , index=labels)\n",
        "print(\"Original rows:\")\n",
        "print(df)\n",
        "print(\"\\nReplace the 'qualify' column contains the values 'yes' and 'no'  with True and  False:\")\n",
        "df['qualify'] = df['qualify'].map({'yes': True, 'no': False})\n",
        "print(df)"
      ],
      "metadata": {
        "colab": {
          "base_uri": "https://localhost:8080/"
        },
        "id": "ZsReqHuI5PzU",
        "outputId": "64091666-5f8f-4185-9f0b-502526e901ab"
      },
      "execution_count": null,
      "outputs": [
        {
          "output_type": "stream",
          "name": "stdout",
          "text": [
            "Original rows:\n",
            "        name  score  attempts qualify\n",
            "a  Anastasia   12.5         1     yes\n",
            "b       Dima    9.0         3      no\n",
            "c  Katherine   16.5         2     yes\n",
            "d      James    NaN         3      no\n",
            "e      Emily    9.0         2      no\n",
            "f    Michael   20.0         3     yes\n",
            "g    Matthew   14.5         1     yes\n",
            "h      Laura    NaN         1      no\n",
            "i      Kevin    8.0         2      no\n",
            "j      Jonas   19.0         1     yes\n",
            "\n",
            "Replace the 'qualify' column contains the values 'yes' and 'no'  with True and  False:\n",
            "        name  score  attempts  qualify\n",
            "a  Anastasia   12.5         1     True\n",
            "b       Dima    9.0         3    False\n",
            "c  Katherine   16.5         2     True\n",
            "d      James    NaN         3    False\n",
            "e      Emily    9.0         2    False\n",
            "f    Michael   20.0         3     True\n",
            "g    Matthew   14.5         1     True\n",
            "h      Laura    NaN         1    False\n",
            "i      Kevin    8.0         2    False\n",
            "j      Jonas   19.0         1     True\n"
          ]
        }
      ]
    },
    {
      "cell_type": "markdown",
      "source": [
        "To change the name 'James' to 'Suresh' in the name column from the dataframe."
      ],
      "metadata": {
        "id": "nRBGVSWc6Y_9"
      }
    },
    {
      "cell_type": "code",
      "source": [
        "df1 = pd.DataFrame(exam_data , index=labels)\n",
        "print(\"\\nChange the name 'James' to ‘Suresh’:\")\n",
        "df1['name'] = df1['name'].replace('James', 'Suresh')\n",
        "print(df1)"
      ],
      "metadata": {
        "colab": {
          "base_uri": "https://localhost:8080/"
        },
        "id": "DXFlgVyU6ler",
        "outputId": "6d4c9498-481a-4a3f-a609-42e8200c6b95"
      },
      "execution_count": null,
      "outputs": [
        {
          "output_type": "stream",
          "name": "stdout",
          "text": [
            "\n",
            "Change the name 'James' to ‘Suresh’:\n",
            "        name  score  attempts qualify\n",
            "a  Anastasia   12.5         1     yes\n",
            "b       Dima    9.0         3      no\n",
            "c  Katherine   16.5         2     yes\n",
            "d     Suresh    NaN         3      no\n",
            "e      Emily    9.0         2      no\n",
            "f    Michael   20.0         3     yes\n",
            "g    Matthew   14.5         1     yes\n",
            "h      Laura    NaN         1      no\n",
            "i      Kevin    8.0         2      no\n",
            "j      Jonas   19.0         1     yes\n"
          ]
        }
      ]
    },
    {
      "cell_type": "markdown",
      "source": [
        "To delete the attempts column from the dataframe."
      ],
      "metadata": {
        "id": "BI6RI0nC6_93"
      }
    },
    {
      "cell_type": "code",
      "source": [
        "df2 = pd.DataFrame(exam_data , index=labels)\n",
        "print(\"\\nDelete the 'attempts' column from the data frame:\")\n",
        "df2.pop('attempts')\n",
        "print(df2)"
      ],
      "metadata": {
        "colab": {
          "base_uri": "https://localhost:8080/"
        },
        "id": "hFrGI7Da7G3S",
        "outputId": "4c604618-f240-446a-b92c-9c93c1f72329"
      },
      "execution_count": null,
      "outputs": [
        {
          "output_type": "stream",
          "name": "stdout",
          "text": [
            "\n",
            "Delete the 'attempts' column from the data frame:\n",
            "        name  score qualify\n",
            "a  Anastasia   12.5     yes\n",
            "b       Dima    9.0      no\n",
            "c  Katherine   16.5     yes\n",
            "d      James    NaN      no\n",
            "e      Emily    9.0      no\n",
            "f    Michael   20.0     yes\n",
            "g    Matthew   14.5     yes\n",
            "h      Laura    NaN      no\n",
            "i      Kevin    8.0      no\n",
            "j      Jonas   19.0     yes\n"
          ]
        }
      ]
    },
    {
      "cell_type": "markdown",
      "source": [
        "To insert a new column in existing Dataframe"
      ],
      "metadata": {
        "id": "NOGAZi5B7SmY"
      }
    },
    {
      "cell_type": "code",
      "source": [
        "df3 = pd.DataFrame(exam_data , index=labels)\n",
        "subject = ['math','english','science','math','Chem','Chem','english','geography','geography','math']\n",
        "df3['subject'] = subject\n",
        "print(\"\\nNew DataFrame after inserting the 'subject' column\")\n",
        "print(df3)"
      ],
      "metadata": {
        "colab": {
          "base_uri": "https://localhost:8080/"
        },
        "id": "xN46heJe7c7s",
        "outputId": "b4d8a94e-0d06-4840-af50-33c8c61c6061"
      },
      "execution_count": null,
      "outputs": [
        {
          "output_type": "stream",
          "name": "stdout",
          "text": [
            "\n",
            "New DataFrame after inserting the 'subject' column\n",
            "        name  score  attempts qualify    subject\n",
            "a  Anastasia   12.5         1     yes       math\n",
            "b       Dima    9.0         3      no    english\n",
            "c  Katherine   16.5         2     yes    science\n",
            "d      James    NaN         3      no       math\n",
            "e      Emily    9.0         2      no       Chem\n",
            "f    Michael   20.0         3     yes       Chem\n",
            "g    Matthew   14.5         1     yes    english\n",
            "h      Laura    NaN         1      no  geography\n",
            "i      Kevin    8.0         2      no  geography\n",
            "j      Jonas   19.0         1     yes       math\n"
          ]
        }
      ]
    },
    {
      "cell_type": "markdown",
      "source": [
        "TO iterate over rows in Dataframe"
      ],
      "metadata": {
        "id": "uXy2QsRt8Sce"
      }
    },
    {
      "cell_type": "code",
      "source": [
        "df4 = pd.DataFrame(exam_data)\n",
        "for index, row in df4.iterrows():\n",
        "    print(row['name'], row['score'])"
      ],
      "metadata": {
        "colab": {
          "base_uri": "https://localhost:8080/"
        },
        "id": "0clWdgHO8YGd",
        "outputId": "e3d21de9-91dd-4961-95a4-1fd95bf36b72"
      },
      "execution_count": null,
      "outputs": [
        {
          "output_type": "stream",
          "name": "stdout",
          "text": [
            "Anastasia 12.5\n",
            "Dima 9.0\n",
            "Katherine 16.5\n",
            "James nan\n",
            "Emily 9.0\n",
            "Michael 20.0\n",
            "Matthew 14.5\n",
            "Laura nan\n",
            "Kevin 8.0\n",
            "Jonas 19.0\n"
          ]
        }
      ]
    },
    {
      "cell_type": "markdown",
      "source": [
        "To count the NaN values in one or more columns in Dataframe."
      ],
      "metadata": {
        "id": "Sl5bnwNk8vWf"
      }
    },
    {
      "cell_type": "code",
      "source": [
        "df5= pd.DataFrame(exam_data)\n",
        "print(\"\\nNumber of NaN values in one or more columns:\")\n",
        "print(df5.isnull().values.sum())"
      ],
      "metadata": {
        "colab": {
          "base_uri": "https://localhost:8080/"
        },
        "id": "nZx0sXfo82rB",
        "outputId": "7d7aa2ad-ac64-4c34-ddde-3608fc9ebd9e"
      },
      "execution_count": null,
      "outputs": [
        {
          "output_type": "stream",
          "name": "stdout",
          "text": [
            "\n",
            "Number of NaN values in one or more columns:\n",
            "2\n"
          ]
        }
      ]
    },
    {
      "cell_type": "markdown",
      "source": [
        "Make all column names to upper case"
      ],
      "metadata": {
        "id": "ai7lgvBJ9Ros"
      }
    },
    {
      "cell_type": "code",
      "source": [
        "a=pd.DataFrame(exam_data)\n",
        "a['name']=a['name'].str.upper()\n",
        "print(a)"
      ],
      "metadata": {
        "colab": {
          "base_uri": "https://localhost:8080/"
        },
        "id": "jkKQK8CU9ZDf",
        "outputId": "3e987237-cb63-4a6e-f231-fa2d0e8a7f9c"
      },
      "execution_count": null,
      "outputs": [
        {
          "output_type": "stream",
          "name": "stdout",
          "text": [
            "        name  score  attempts qualify\n",
            "0  ANASTASIA   12.5         1     yes\n",
            "1       DIMA    9.0         3      no\n",
            "2  KATHERINE   16.5         2     yes\n",
            "3      JAMES    NaN         3      no\n",
            "4      EMILY    9.0         2      no\n",
            "5    MICHAEL   20.0         3     yes\n",
            "6    MATTHEW   14.5         1     yes\n",
            "7      LAURA    NaN         1      no\n",
            "8      KEVIN    8.0         2      no\n",
            "9      JONAS   19.0         1     yes\n"
          ]
        }
      ]
    },
    {
      "cell_type": "markdown",
      "source": [
        "Add underscore to all the column names"
      ],
      "metadata": {
        "id": "KazM1KBDEhSs"
      }
    },
    {
      "cell_type": "code",
      "source": [
        "df= pd.DataFrame(exam_data)\n",
        "df=df.rename(columns={\"name\":\"name_\",\"score\":\"score_\",\"attempts\":\"attempts_\",\"qualify\":\"qualify_\"})\n",
        "print(df)"
      ],
      "metadata": {
        "colab": {
          "base_uri": "https://localhost:8080/"
        },
        "id": "XgeXC9L9FGLm",
        "outputId": "8f2379e1-5a21-4c81-fcc9-de7bd94d6fc0"
      },
      "execution_count": null,
      "outputs": [
        {
          "output_type": "stream",
          "name": "stdout",
          "text": [
            "       name_  score_  attempts_ qualify_\n",
            "0  Anastasia    12.5          1      yes\n",
            "1       Dima     9.0          3       no\n",
            "2  Katherine    16.5          2      yes\n",
            "3      James     NaN          3       no\n",
            "4      Emily     9.0          2       no\n",
            "5    Michael    20.0          3      yes\n",
            "6    Matthew    14.5          1      yes\n",
            "7      Laura     NaN          1       no\n",
            "8      Kevin     8.0          2       no\n",
            "9      Jonas    19.0          1      yes\n"
          ]
        }
      ]
    }
  ]
}