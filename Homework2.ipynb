{
  "nbformat": 4,
  "nbformat_minor": 0,
  "metadata": {
    "colab": {
      "provenance": [],
      "authorship_tag": "ABX9TyP6uEO2vciAAQD/N+YG3oqO",
      "include_colab_link": true
    },
    "kernelspec": {
      "name": "python3",
      "display_name": "Python 3"
    },
    "language_info": {
      "name": "python"
    }
  },
  "cells": [
    {
      "cell_type": "markdown",
      "metadata": {
        "id": "view-in-github",
        "colab_type": "text"
      },
      "source": [
        "<a href=\"https://colab.research.google.com/github/A7sultan/Python-DA-ML-portfolio/blob/main/Homework2.ipynb\" target=\"_parent\"><img src=\"https://colab.research.google.com/assets/colab-badge.svg\" alt=\"Open In Colab\"/></a>"
      ]
    },
    {
      "cell_type": "code",
      "execution_count": null,
      "metadata": {
        "id": "Ix64vskoOEen"
      },
      "outputs": [],
      "source": [
        "import pandas as pd\n",
        "import numpy as np\n",
        "d={'col_1':[1,2,3],\n",
        "   'col_2':[4,5,6],\n",
        "   'col_3':[7,8,9]\n",
        "   }"
      ]
    },
    {
      "cell_type": "markdown",
      "source": [
        "Pandas program to select all rows from the given DataFrame based on the criteria if value 4 is present in it"
      ],
      "metadata": {
        "id": "U35KhdInOjoX"
      }
    },
    {
      "cell_type": "code",
      "source": [
        "df = pd.DataFrame(data=d)\n",
        "print(df)\n",
        "print(df.loc[df['col_1'] == 4])\n",
        "print(df.loc[df['col_2'] == 4])\n",
        "print(df.loc[df['col_3'] == 4])"
      ],
      "metadata": {
        "colab": {
          "base_uri": "https://localhost:8080/"
        },
        "id": "goxiQSsPOyoE",
        "outputId": "e1f54353-41db-482b-a66a-0ac92b8a6676"
      },
      "execution_count": null,
      "outputs": [
        {
          "output_type": "stream",
          "name": "stdout",
          "text": [
            "   col_1  col_2  col_3\n",
            "0      1      4      7\n",
            "1      2      5      8\n",
            "2      3      6      9\n",
            "Empty DataFrame\n",
            "Columns: [col_1, col_2, col_3]\n",
            "Index: []\n",
            "   col_1  col_2  col_3\n",
            "0      1      4      7\n",
            "Empty DataFrame\n",
            "Columns: [col_1, col_2, col_3]\n",
            "Index: []\n"
          ]
        }
      ]
    },
    {
      "cell_type": "markdown",
      "source": [
        "To reverse the order of DataFrame columns"
      ],
      "metadata": {
        "id": "u0nWYhwBQMos"
      }
    },
    {
      "cell_type": "code",
      "source": [
        "print(df.loc[:, ::-1])"
      ],
      "metadata": {
        "colab": {
          "base_uri": "https://localhost:8080/"
        },
        "id": "e7PpD9aXQUOB",
        "outputId": "a30b7d68-a389-4674-f42c-68a057c3b8ce"
      },
      "execution_count": null,
      "outputs": [
        {
          "output_type": "stream",
          "name": "stdout",
          "text": [
            "   col_3  col_2  col_1\n",
            "0      7      4      1\n",
            "1      8      5      2\n",
            "2      9      6      3\n"
          ]
        }
      ]
    },
    {
      "cell_type": "markdown",
      "source": [
        "To add one row to an exisiting DataFrame"
      ],
      "metadata": {
        "id": "rmpKWDfJQsfq"
      }
    },
    {
      "cell_type": "code",
      "source": [
        "df = pd.DataFrame(data=d)\n",
        "print('After add one row:')\n",
        "df2 = {'col_1': 21, 'col_2': 11, 'col_3': 9}\n",
        "df = df.append(df2, ignore_index=True)\n",
        "print(df)"
      ],
      "metadata": {
        "colab": {
          "base_uri": "https://localhost:8080/"
        },
        "id": "PpVdvHruRFYm",
        "outputId": "00cbe871-2563-4931-fbf3-483a6c9777f3"
      },
      "execution_count": null,
      "outputs": [
        {
          "output_type": "stream",
          "name": "stdout",
          "text": [
            "After add one row:\n",
            "   col_1  col_2  col_3\n",
            "0      1      4      7\n",
            "1      2      5      8\n",
            "2      3      6      9\n",
            "3     21     11      9\n"
          ]
        },
        {
          "output_type": "stream",
          "name": "stderr",
          "text": [
            "<ipython-input-13-4f890067b112>:4: FutureWarning: The frame.append method is deprecated and will be removed from pandas in a future version. Use pandas.concat instead.\n",
            "  df = df.append(df2, ignore_index=True)\n"
          ]
        }
      ]
    },
    {
      "cell_type": "markdown",
      "source": [
        "pandas program to delete Dataframe row(s) which has 5 in it"
      ],
      "metadata": {
        "id": "0V5bNUIJSJOq"
      }
    },
    {
      "cell_type": "code",
      "source": [
        "df = df[df.col_2 != 5]\n",
        "print(\"New DataFrame\")\n",
        "print(df)"
      ],
      "metadata": {
        "colab": {
          "base_uri": "https://localhost:8080/"
        },
        "id": "PEOpEUvtSfp8",
        "outputId": "e5213a41-f41d-4a20-b0aa-59613c914a1e"
      },
      "execution_count": null,
      "outputs": [
        {
          "output_type": "stream",
          "name": "stdout",
          "text": [
            "New DataFrame\n",
            "   col_1  col_2  col_3\n",
            "0      1      4      7\n",
            "2      3      6      9\n",
            "3     21     11      9\n"
          ]
        }
      ]
    }
  ]
}