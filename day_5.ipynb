{
  "nbformat": 4,
  "nbformat_minor": 0,
  "metadata": {
    "colab": {
      "provenance": [],
      "include_colab_link": true
    },
    "kernelspec": {
      "name": "python3",
      "display_name": "Python 3"
    },
    "language_info": {
      "name": "python"
    }
  },
  "cells": [
    {
      "cell_type": "markdown",
      "metadata": {
        "id": "view-in-github",
        "colab_type": "text"
      },
      "source": [
        "<a href=\"https://colab.research.google.com/github/A7sultan/Python-DA-ML-portfolio/blob/main/day_5.ipynb\" target=\"_parent\"><img src=\"https://colab.research.google.com/assets/colab-badge.svg\" alt=\"Open In Colab\"/></a>"
      ]
    },
    {
      "cell_type": "markdown",
      "source": [
        "\n",
        "\n",
        "# Frozen Set\n",
        "\n"
      ],
      "metadata": {
        "id": "T9X-g5aLhKLV"
      }
    },
    {
      "cell_type": "markdown",
      "source": [
        "similar to sets but elements to a frozenset cannot be added or removed"
      ],
      "metadata": {
        "id": "mA5gtPqTxhYu"
      }
    },
    {
      "cell_type": "markdown",
      "source": [
        "frozenset() - creates an immutable Set object from an iterable"
      ],
      "metadata": {
        "id": "TxkRuRb2hFRj"
      }
    },
    {
      "cell_type": "code",
      "execution_count": null,
      "metadata": {
        "colab": {
          "base_uri": "https://localhost:8080/"
        },
        "id": "upKrN5kgewXh",
        "outputId": "c1de28d9-d326-4a00-f9ed-3de88bcdf593"
      },
      "outputs": [
        {
          "output_type": "execute_result",
          "data": {
            "text/plain": [
              "frozenset"
            ]
          },
          "metadata": {},
          "execution_count": 12
        }
      ],
      "source": [
        "l = [\"Code\", \"for\", \"India\"]\n",
        "\n",
        "# converting list to frozenset\n",
        "f1 = frozenset(l)\n",
        "type(f1)\n",
        "\n",
        "# printing empty frozenset object\n",
        "# print(\"frozenset Object is : \", f1)"
      ]
    },
    {
      "cell_type": "markdown",
      "source": [
        "# Frozen sets on dictionaries"
      ],
      "metadata": {
        "id": "f152Wrlfl3So"
      }
    },
    {
      "cell_type": "markdown",
      "source": [
        "Since frozenset objects are immutable, they are mainly used as key in dictionary or elements of other sets."
      ],
      "metadata": {
        "id": "5x7MJebHl8sb"
      }
    },
    {
      "cell_type": "code",
      "source": [
        "# creating a dictionary\n",
        "Student = {\"name\": \"Ifra\", \"age\": 21, \"sex\": \"Feale\",\n",
        "           \"college\": \"CFI\", \"address\": \"Hyderabad\"}\n",
        "\n",
        "key = frozenset(Student)\n",
        "\n",
        "# printing dict keys as frozenset\n",
        "print('The frozen set is:', key)"
      ],
      "metadata": {
        "colab": {
          "base_uri": "https://localhost:8080/"
        },
        "id": "JoDJpjvwl8Ct",
        "outputId": "fa8a70ca-d42c-4b5f-ea61-47238d2b541e"
      },
      "execution_count": null,
      "outputs": [
        {
          "output_type": "stream",
          "name": "stdout",
          "text": [
            "The frozen set is: frozenset({'sex', 'college', 'name', 'address', 'age'})\n"
          ]
        }
      ]
    },
    {
      "cell_type": "markdown",
      "source": [
        "Frozen sets are immuatble"
      ],
      "metadata": {
        "id": "D1YDujXumaVx"
      }
    },
    {
      "cell_type": "markdown",
      "source": [
        "# List Comprehension"
      ],
      "metadata": {
        "id": "0IqAn-N3rw2g"
      }
    },
    {
      "cell_type": "code",
      "source": [
        "my_list = [1,2,3, 4,5]\n",
        "newlist = []\n",
        "\n",
        "for x in my_list:\n",
        "  if x%2 ==0 :\n",
        "    newlist.append(x)\n",
        "\n",
        "print(newlist)"
      ],
      "metadata": {
        "colab": {
          "base_uri": "https://localhost:8080/"
        },
        "id": "64RtHZKmhu-j",
        "outputId": "5959d35a-5235-421b-fec9-adee88b5f797"
      },
      "execution_count": null,
      "outputs": [
        {
          "output_type": "stream",
          "name": "stdout",
          "text": [
            "[2, 4]\n"
          ]
        }
      ]
    },
    {
      "cell_type": "code",
      "source": [
        "my_list = [1,2,3, 4,5]\n",
        "new_list = [x for x in my_list if x % 2 == 0]\n",
        "\n",
        "print(new_list)"
      ],
      "metadata": {
        "colab": {
          "base_uri": "https://localhost:8080/"
        },
        "id": "E-0zOS2HsZrj",
        "outputId": "29f476bf-424f-4373-a56c-a89f68e5a6aa"
      },
      "execution_count": null,
      "outputs": [
        {
          "output_type": "stream",
          "name": "stdout",
          "text": [
            "[2, 4]\n"
          ]
        }
      ]
    },
    {
      "cell_type": "code",
      "source": [
        "new_list = [x for x in my_list if x != 3]\n",
        "print(new_list)"
      ],
      "metadata": {
        "colab": {
          "base_uri": "https://localhost:8080/"
        },
        "id": "B_-8T0vMskev",
        "outputId": "9c550292-a8fa-4677-8a9b-efeebe64a9ac"
      },
      "execution_count": null,
      "outputs": [
        {
          "output_type": "stream",
          "name": "stdout",
          "text": [
            "[1, 2, 4, 5]\n"
          ]
        }
      ]
    },
    {
      "cell_type": "markdown",
      "source": [
        "Create a new list with elements from 1-10 with the help of list comprehension"
      ],
      "metadata": {
        "id": "So2ILskRs86c"
      }
    },
    {
      "cell_type": "code",
      "source": [
        "my_list= [x for x in range(1,11)]\n",
        "print(my_list)"
      ],
      "metadata": {
        "colab": {
          "base_uri": "https://localhost:8080/"
        },
        "id": "IAHcyE4060gB",
        "outputId": "9f86ebfd-11dd-4a7d-b067-46c434b12cdc"
      },
      "execution_count": null,
      "outputs": [
        {
          "output_type": "stream",
          "name": "stdout",
          "text": [
            "[1, 2, 3, 4, 5, 6, 7, 8, 9, 10]\n"
          ]
        }
      ]
    },
    {
      "cell_type": "markdown",
      "source": [
        "# Modules\n",
        "\n",
        "\n",
        "\n",
        "To access a function from a module, use the syntax: module_name.function_name."
      ],
      "metadata": {
        "id": "7YrAULWqtTtG"
      }
    },
    {
      "cell_type": "code",
      "source": [
        "import datetime\n",
        "\n",
        "x = datetime.datetime.now()\n",
        "print(x)"
      ],
      "metadata": {
        "colab": {
          "base_uri": "https://localhost:8080/"
        },
        "id": "FXkHYZQYs1hM",
        "outputId": "2d59bacd-24ee-4e80-bc97-cf752dda7723"
      },
      "execution_count": null,
      "outputs": [
        {
          "output_type": "stream",
          "name": "stdout",
          "text": [
            "2023-06-24 10:35:15.873646\n"
          ]
        }
      ]
    },
    {
      "cell_type": "markdown",
      "source": [
        "To create a date, we can use the **datetime()** class (constructor) of the datetime module."
      ],
      "metadata": {
        "id": "i40eT-Svt5uT"
      }
    },
    {
      "cell_type": "markdown",
      "source": [
        "The datetime() class requires three parameters to create a date: year, month, day."
      ],
      "metadata": {
        "id": "1skMZ1qKt-kt"
      }
    },
    {
      "cell_type": "markdown",
      "source": [
        "PATTERNS"
      ],
      "metadata": {
        "id": "taxsGxYfvlH1"
      }
    },
    {
      "cell_type": "markdown",
      "source": [
        "Right side triangle"
      ],
      "metadata": {
        "id": "Hl2J3wyLwLUK"
      }
    },
    {
      "cell_type": "code",
      "source": [
        "n=5\n",
        "for i in range(0, n):\n",
        "    for j in range(0, i+1):\n",
        "        print(\"* \",end=\"\")\n",
        "    print(\" \")"
      ],
      "metadata": {
        "colab": {
          "base_uri": "https://localhost:8080/"
        },
        "id": "hH8bPQeNtvbP",
        "outputId": "8b83f1fd-9cbe-4601-8d24-706dea093988"
      },
      "execution_count": null,
      "outputs": [
        {
          "output_type": "stream",
          "name": "stdout",
          "text": [
            "*  \n",
            "* *  \n",
            "* * *  \n",
            "* * * *  \n",
            "* * * * *  \n"
          ]
        }
      ]
    },
    {
      "cell_type": "code",
      "source": [],
      "metadata": {
        "id": "sEejOYBVwNhl"
      },
      "execution_count": null,
      "outputs": []
    }
  ]
}